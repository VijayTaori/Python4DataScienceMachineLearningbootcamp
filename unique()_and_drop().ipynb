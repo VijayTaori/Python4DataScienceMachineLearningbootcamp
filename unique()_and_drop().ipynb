{
  "nbformat": 4,
  "nbformat_minor": 0,
  "metadata": {
    "colab": {
      "provenance": [],
      "authorship_tag": "ABX9TyPpYn//MFBvD3TfWc81/Ltn",
      "include_colab_link": true
    },
    "kernelspec": {
      "name": "python3",
      "display_name": "Python 3"
    },
    "language_info": {
      "name": "python"
    }
  },
  "cells": [
    {
      "cell_type": "markdown",
      "metadata": {
        "id": "view-in-github",
        "colab_type": "text"
      },
      "source": [
        "<a href=\"https://colab.research.google.com/github/VijayTaori/Python4DataScienceMachineLearningbootcamp/blob/master/unique()_and_drop().ipynb\" target=\"_parent\"><img src=\"https://colab.research.google.com/assets/colab-badge.svg\" alt=\"Open In Colab\"/></a>"
      ]
    },
    {
      "cell_type": "code",
      "execution_count": null,
      "metadata": {
        "id": "av8MI4z0uGP2"
      },
      "outputs": [],
      "source": [
        "import pandas as pd\n",
        "import numpy as np\n",
        "import datetime as dt"
      ]
    },
    {
      "cell_type": "code",
      "source": [
        "df = pd.read_excel('Assesment of taxes 2020_etoro.xlsx', sheet_name=0)"
      ],
      "metadata": {
        "id": "nv0War2ruSBj"
      },
      "execution_count": null,
      "outputs": []
    },
    {
      "cell_type": "code",
      "source": [
        "df.columns"
      ],
      "metadata": {
        "colab": {
          "base_uri": "https://localhost:8080/"
        },
        "id": "4H4Rsbj1uTAs",
        "outputId": "a64da069-df64-4d09-f625-d0b155ce0a0e"
      },
      "execution_count": null,
      "outputs": [
        {
          "output_type": "execute_result",
          "data": {
            "text/plain": [
              "Index(['Position ID', 'Action', 'Amount', 'Units', 'Open Date', 'Close Date',\n",
              "       'Leverage', 'Spread', 'Profit', 'Profit (cal.)', 'profit - spread',\n",
              "       'Open Rate', 'Close Rate', 'Close Amount', 'Take profit rate',\n",
              "       'Stop lose rate', 'Rollover Fees and Dividends', 'Copied From', 'Type'],\n",
              "      dtype='object')"
            ]
          },
          "metadata": {},
          "execution_count": 5
        }
      ]
    },
    {
      "cell_type": "code",
      "source": [
        "df['Leverage'].unique()"
      ],
      "metadata": {
        "colab": {
          "base_uri": "https://localhost:8080/"
        },
        "id": "nFnh6N22uTfn",
        "outputId": "7cae86ce-5bad-43a7-de8d-f0ebec3541b6"
      },
      "execution_count": null,
      "outputs": [
        {
          "output_type": "execute_result",
          "data": {
            "text/plain": [
              "array([ 1., nan])"
            ]
          },
          "metadata": {},
          "execution_count": 6
        }
      ]
    },
    {
      "cell_type": "code",
      "source": [
        "df['Rollover Fees and Dividends'].unique()"
      ],
      "metadata": {
        "colab": {
          "base_uri": "https://localhost:8080/"
        },
        "id": "io_GPiHB1crC",
        "outputId": "938f52c1-d321-4547-e45f-6f294ec19e9f"
      },
      "execution_count": null,
      "outputs": [
        {
          "output_type": "execute_result",
          "data": {
            "text/plain": [
              "array([ 0., nan])"
            ]
          },
          "metadata": {},
          "execution_count": 11
        }
      ]
    },
    {
      "cell_type": "code",
      "source": [
        "df['Copied From'].unique()"
      ],
      "metadata": {
        "colab": {
          "base_uri": "https://localhost:8080/"
        },
        "id": "OEWvY2Jv12An",
        "outputId": "076945fa-a943-4c97-a194-112822607bd0"
      },
      "execution_count": null,
      "outputs": [
        {
          "output_type": "execute_result",
          "data": {
            "text/plain": [
              "array(['-', nan], dtype=object)"
            ]
          },
          "metadata": {},
          "execution_count": 12
        }
      ]
    },
    {
      "cell_type": "code",
      "source": [
        "df['Type'].unique()"
      ],
      "metadata": {
        "colab": {
          "base_uri": "https://localhost:8080/"
        },
        "id": "8Ncf1tKS2Aj4",
        "outputId": "cd461443-6126-42f3-ac19-2c2d88e09aa7"
      },
      "execution_count": null,
      "outputs": [
        {
          "output_type": "execute_result",
          "data": {
            "text/plain": [
              "array(['Crypto', nan], dtype=object)"
            ]
          },
          "metadata": {},
          "execution_count": 14
        }
      ]
    },
    {
      "cell_type": "code",
      "source": [
        "df1 = df.drop(['Leverage',\n",
        "               'Stop lose rate',\n",
        "               'Take profit rate',\n",
        "               'Stop lose rate',\n",
        "               'Rollover Fees and Dividends',\n",
        "               'Copied From',\n",
        "               'Type'\n",
        "               ], axis=1)"
      ],
      "metadata": {
        "id": "ughZG2BZuTnG"
      },
      "execution_count": null,
      "outputs": []
    },
    {
      "cell_type": "code",
      "source": [
        "df1"
      ],
      "metadata": {
        "colab": {
          "base_uri": "https://localhost:8080/",
          "height": 641
        },
        "id": "M0XHtS2cuTzh",
        "outputId": "c95909de-4e40-424b-f99e-5b702a2f0363"
      },
      "execution_count": null,
      "outputs": [
        {
          "output_type": "execute_result",
          "data": {
            "text/plain": [
              "     Position ID       Action  Amount        Units            Open Date  \\\n",
              "0    846176513.0    Buy Tezos   412.0   205.804486  23/12/2020 12:03:34   \n",
              "1    846157005.0    Buy Tezos   500.0   251.521706  23/12/2020 11:26:54   \n",
              "2    847982369.0    Buy Tezos   200.0   107.747010  24/12/2020 03:54:22   \n",
              "3    840577036.0  Buy Cardano   500.0  2870.264064  19/12/2020 17:12:02   \n",
              "4    814175274.0  Buy Cardano    70.0   405.327157  30/11/2020 16:51:37   \n",
              "..           ...          ...     ...          ...                  ...   \n",
              "340  609940706.0  Buy Bitcoin  1060.0     0.118959  29/04/2020 17:44:04   \n",
              "341  610190271.0  Buy Bitcoin   540.0     0.058881  30/04/2020 04:14:49   \n",
              "342  610187469.0  Buy Bitcoin   540.0     0.058647  30/04/2020 04:00:56   \n",
              "343  599996081.0  Buy Bitcoin   100.0     0.014149  17/04/2020 18:42:42   \n",
              "344          NaN          NaN     NaN          NaN                  NaN   \n",
              "\n",
              "              Close Date  Spread  Profit  Profit (cal.)  profit - spread  \\\n",
              "0    31/12/2020 15:18:32    4.13   -1.07       0.000000        -4.130000   \n",
              "1    31/12/2020 15:18:24    5.05    2.24       2.515217        -2.534783   \n",
              "2    31/12/2020 15:18:19    2.16   15.13      15.084581        12.924581   \n",
              "3    29/12/2020 05:32:19   17.72   -5.74       0.000000       -17.720000   \n",
              "4    29/12/2020 05:32:10    2.50   -0.20       0.000000        -2.500000   \n",
              "..                   ...     ...     ...            ...              ...   \n",
              "340  01/05/2020 20:57:04    7.79  -25.13     -25.128899       -32.918899   \n",
              "341  01/05/2020 20:56:05    3.85  -28.20     -28.199289       -32.049289   \n",
              "342  01/05/2020 20:55:45    3.83  -30.73     -30.726923       -34.556923   \n",
              "343  01/05/2020 11:44:24    0.96   27.72      27.724117        26.764117   \n",
              "344                  NaN     NaN  -73.10    -131.990591      -855.840591   \n",
              "\n",
              "     Open Rate  Close Rate  Close Amount  \n",
              "0         2.00        2.00    411.608972  \n",
              "1         1.99        2.00    503.043412  \n",
              "2         1.86        2.00    215.494020  \n",
              "3         0.17        0.17    487.944891  \n",
              "4         0.17        0.17     68.905617  \n",
              "..         ...         ...           ...  \n",
              "340    8910.67     8699.43   1034.875493  \n",
              "341    9171.11     8692.19    511.804839  \n",
              "342    9209.41     8685.48    509.377346  \n",
              "343    7067.56     9027.00    127.723023  \n",
              "344        NaN         NaN           NaN  \n",
              "\n",
              "[345 rows x 13 columns]"
            ],
            "text/html": [
              "\n",
              "  <div id=\"df-94c721a4-95c0-4c2b-83f9-4ca8aeceee13\">\n",
              "    <div class=\"colab-df-container\">\n",
              "      <div>\n",
              "<style scoped>\n",
              "    .dataframe tbody tr th:only-of-type {\n",
              "        vertical-align: middle;\n",
              "    }\n",
              "\n",
              "    .dataframe tbody tr th {\n",
              "        vertical-align: top;\n",
              "    }\n",
              "\n",
              "    .dataframe thead th {\n",
              "        text-align: right;\n",
              "    }\n",
              "</style>\n",
              "<table border=\"1\" class=\"dataframe\">\n",
              "  <thead>\n",
              "    <tr style=\"text-align: right;\">\n",
              "      <th></th>\n",
              "      <th>Position ID</th>\n",
              "      <th>Action</th>\n",
              "      <th>Amount</th>\n",
              "      <th>Units</th>\n",
              "      <th>Open Date</th>\n",
              "      <th>Close Date</th>\n",
              "      <th>Spread</th>\n",
              "      <th>Profit</th>\n",
              "      <th>Profit (cal.)</th>\n",
              "      <th>profit - spread</th>\n",
              "      <th>Open Rate</th>\n",
              "      <th>Close Rate</th>\n",
              "      <th>Close Amount</th>\n",
              "    </tr>\n",
              "  </thead>\n",
              "  <tbody>\n",
              "    <tr>\n",
              "      <th>0</th>\n",
              "      <td>846176513.0</td>\n",
              "      <td>Buy Tezos</td>\n",
              "      <td>412.0</td>\n",
              "      <td>205.804486</td>\n",
              "      <td>23/12/2020 12:03:34</td>\n",
              "      <td>31/12/2020 15:18:32</td>\n",
              "      <td>4.13</td>\n",
              "      <td>-1.07</td>\n",
              "      <td>0.000000</td>\n",
              "      <td>-4.130000</td>\n",
              "      <td>2.00</td>\n",
              "      <td>2.00</td>\n",
              "      <td>411.608972</td>\n",
              "    </tr>\n",
              "    <tr>\n",
              "      <th>1</th>\n",
              "      <td>846157005.0</td>\n",
              "      <td>Buy Tezos</td>\n",
              "      <td>500.0</td>\n",
              "      <td>251.521706</td>\n",
              "      <td>23/12/2020 11:26:54</td>\n",
              "      <td>31/12/2020 15:18:24</td>\n",
              "      <td>5.05</td>\n",
              "      <td>2.24</td>\n",
              "      <td>2.515217</td>\n",
              "      <td>-2.534783</td>\n",
              "      <td>1.99</td>\n",
              "      <td>2.00</td>\n",
              "      <td>503.043412</td>\n",
              "    </tr>\n",
              "    <tr>\n",
              "      <th>2</th>\n",
              "      <td>847982369.0</td>\n",
              "      <td>Buy Tezos</td>\n",
              "      <td>200.0</td>\n",
              "      <td>107.747010</td>\n",
              "      <td>24/12/2020 03:54:22</td>\n",
              "      <td>31/12/2020 15:18:19</td>\n",
              "      <td>2.16</td>\n",
              "      <td>15.13</td>\n",
              "      <td>15.084581</td>\n",
              "      <td>12.924581</td>\n",
              "      <td>1.86</td>\n",
              "      <td>2.00</td>\n",
              "      <td>215.494020</td>\n",
              "    </tr>\n",
              "    <tr>\n",
              "      <th>3</th>\n",
              "      <td>840577036.0</td>\n",
              "      <td>Buy Cardano</td>\n",
              "      <td>500.0</td>\n",
              "      <td>2870.264064</td>\n",
              "      <td>19/12/2020 17:12:02</td>\n",
              "      <td>29/12/2020 05:32:19</td>\n",
              "      <td>17.72</td>\n",
              "      <td>-5.74</td>\n",
              "      <td>0.000000</td>\n",
              "      <td>-17.720000</td>\n",
              "      <td>0.17</td>\n",
              "      <td>0.17</td>\n",
              "      <td>487.944891</td>\n",
              "    </tr>\n",
              "    <tr>\n",
              "      <th>4</th>\n",
              "      <td>814175274.0</td>\n",
              "      <td>Buy Cardano</td>\n",
              "      <td>70.0</td>\n",
              "      <td>405.327157</td>\n",
              "      <td>30/11/2020 16:51:37</td>\n",
              "      <td>29/12/2020 05:32:10</td>\n",
              "      <td>2.50</td>\n",
              "      <td>-0.20</td>\n",
              "      <td>0.000000</td>\n",
              "      <td>-2.500000</td>\n",
              "      <td>0.17</td>\n",
              "      <td>0.17</td>\n",
              "      <td>68.905617</td>\n",
              "    </tr>\n",
              "    <tr>\n",
              "      <th>...</th>\n",
              "      <td>...</td>\n",
              "      <td>...</td>\n",
              "      <td>...</td>\n",
              "      <td>...</td>\n",
              "      <td>...</td>\n",
              "      <td>...</td>\n",
              "      <td>...</td>\n",
              "      <td>...</td>\n",
              "      <td>...</td>\n",
              "      <td>...</td>\n",
              "      <td>...</td>\n",
              "      <td>...</td>\n",
              "      <td>...</td>\n",
              "    </tr>\n",
              "    <tr>\n",
              "      <th>340</th>\n",
              "      <td>609940706.0</td>\n",
              "      <td>Buy Bitcoin</td>\n",
              "      <td>1060.0</td>\n",
              "      <td>0.118959</td>\n",
              "      <td>29/04/2020 17:44:04</td>\n",
              "      <td>01/05/2020 20:57:04</td>\n",
              "      <td>7.79</td>\n",
              "      <td>-25.13</td>\n",
              "      <td>-25.128899</td>\n",
              "      <td>-32.918899</td>\n",
              "      <td>8910.67</td>\n",
              "      <td>8699.43</td>\n",
              "      <td>1034.875493</td>\n",
              "    </tr>\n",
              "    <tr>\n",
              "      <th>341</th>\n",
              "      <td>610190271.0</td>\n",
              "      <td>Buy Bitcoin</td>\n",
              "      <td>540.0</td>\n",
              "      <td>0.058881</td>\n",
              "      <td>30/04/2020 04:14:49</td>\n",
              "      <td>01/05/2020 20:56:05</td>\n",
              "      <td>3.85</td>\n",
              "      <td>-28.20</td>\n",
              "      <td>-28.199289</td>\n",
              "      <td>-32.049289</td>\n",
              "      <td>9171.11</td>\n",
              "      <td>8692.19</td>\n",
              "      <td>511.804839</td>\n",
              "    </tr>\n",
              "    <tr>\n",
              "      <th>342</th>\n",
              "      <td>610187469.0</td>\n",
              "      <td>Buy Bitcoin</td>\n",
              "      <td>540.0</td>\n",
              "      <td>0.058647</td>\n",
              "      <td>30/04/2020 04:00:56</td>\n",
              "      <td>01/05/2020 20:55:45</td>\n",
              "      <td>3.83</td>\n",
              "      <td>-30.73</td>\n",
              "      <td>-30.726923</td>\n",
              "      <td>-34.556923</td>\n",
              "      <td>9209.41</td>\n",
              "      <td>8685.48</td>\n",
              "      <td>509.377346</td>\n",
              "    </tr>\n",
              "    <tr>\n",
              "      <th>343</th>\n",
              "      <td>599996081.0</td>\n",
              "      <td>Buy Bitcoin</td>\n",
              "      <td>100.0</td>\n",
              "      <td>0.014149</td>\n",
              "      <td>17/04/2020 18:42:42</td>\n",
              "      <td>01/05/2020 11:44:24</td>\n",
              "      <td>0.96</td>\n",
              "      <td>27.72</td>\n",
              "      <td>27.724117</td>\n",
              "      <td>26.764117</td>\n",
              "      <td>7067.56</td>\n",
              "      <td>9027.00</td>\n",
              "      <td>127.723023</td>\n",
              "    </tr>\n",
              "    <tr>\n",
              "      <th>344</th>\n",
              "      <td>NaN</td>\n",
              "      <td>NaN</td>\n",
              "      <td>NaN</td>\n",
              "      <td>NaN</td>\n",
              "      <td>NaN</td>\n",
              "      <td>NaN</td>\n",
              "      <td>NaN</td>\n",
              "      <td>-73.10</td>\n",
              "      <td>-131.990591</td>\n",
              "      <td>-855.840591</td>\n",
              "      <td>NaN</td>\n",
              "      <td>NaN</td>\n",
              "      <td>NaN</td>\n",
              "    </tr>\n",
              "  </tbody>\n",
              "</table>\n",
              "<p>345 rows × 13 columns</p>\n",
              "</div>\n",
              "      <button class=\"colab-df-convert\" onclick=\"convertToInteractive('df-94c721a4-95c0-4c2b-83f9-4ca8aeceee13')\"\n",
              "              title=\"Convert this dataframe to an interactive table.\"\n",
              "              style=\"display:none;\">\n",
              "        \n",
              "  <svg xmlns=\"http://www.w3.org/2000/svg\" height=\"24px\"viewBox=\"0 0 24 24\"\n",
              "       width=\"24px\">\n",
              "    <path d=\"M0 0h24v24H0V0z\" fill=\"none\"/>\n",
              "    <path d=\"M18.56 5.44l.94 2.06.94-2.06 2.06-.94-2.06-.94-.94-2.06-.94 2.06-2.06.94zm-11 1L8.5 8.5l.94-2.06 2.06-.94-2.06-.94L8.5 2.5l-.94 2.06-2.06.94zm10 10l.94 2.06.94-2.06 2.06-.94-2.06-.94-.94-2.06-.94 2.06-2.06.94z\"/><path d=\"M17.41 7.96l-1.37-1.37c-.4-.4-.92-.59-1.43-.59-.52 0-1.04.2-1.43.59L10.3 9.45l-7.72 7.72c-.78.78-.78 2.05 0 2.83L4 21.41c.39.39.9.59 1.41.59.51 0 1.02-.2 1.41-.59l7.78-7.78 2.81-2.81c.8-.78.8-2.07 0-2.86zM5.41 20L4 18.59l7.72-7.72 1.47 1.35L5.41 20z\"/>\n",
              "  </svg>\n",
              "      </button>\n",
              "      \n",
              "  <style>\n",
              "    .colab-df-container {\n",
              "      display:flex;\n",
              "      flex-wrap:wrap;\n",
              "      gap: 12px;\n",
              "    }\n",
              "\n",
              "    .colab-df-convert {\n",
              "      background-color: #E8F0FE;\n",
              "      border: none;\n",
              "      border-radius: 50%;\n",
              "      cursor: pointer;\n",
              "      display: none;\n",
              "      fill: #1967D2;\n",
              "      height: 32px;\n",
              "      padding: 0 0 0 0;\n",
              "      width: 32px;\n",
              "    }\n",
              "\n",
              "    .colab-df-convert:hover {\n",
              "      background-color: #E2EBFA;\n",
              "      box-shadow: 0px 1px 2px rgba(60, 64, 67, 0.3), 0px 1px 3px 1px rgba(60, 64, 67, 0.15);\n",
              "      fill: #174EA6;\n",
              "    }\n",
              "\n",
              "    [theme=dark] .colab-df-convert {\n",
              "      background-color: #3B4455;\n",
              "      fill: #D2E3FC;\n",
              "    }\n",
              "\n",
              "    [theme=dark] .colab-df-convert:hover {\n",
              "      background-color: #434B5C;\n",
              "      box-shadow: 0px 1px 3px 1px rgba(0, 0, 0, 0.15);\n",
              "      filter: drop-shadow(0px 1px 2px rgba(0, 0, 0, 0.3));\n",
              "      fill: #FFFFFF;\n",
              "    }\n",
              "  </style>\n",
              "\n",
              "      <script>\n",
              "        const buttonEl =\n",
              "          document.querySelector('#df-94c721a4-95c0-4c2b-83f9-4ca8aeceee13 button.colab-df-convert');\n",
              "        buttonEl.style.display =\n",
              "          google.colab.kernel.accessAllowed ? 'block' : 'none';\n",
              "\n",
              "        async function convertToInteractive(key) {\n",
              "          const element = document.querySelector('#df-94c721a4-95c0-4c2b-83f9-4ca8aeceee13');\n",
              "          const dataTable =\n",
              "            await google.colab.kernel.invokeFunction('convertToInteractive',\n",
              "                                                     [key], {});\n",
              "          if (!dataTable) return;\n",
              "\n",
              "          const docLinkHtml = 'Like what you see? Visit the ' +\n",
              "            '<a target=\"_blank\" href=https://colab.research.google.com/notebooks/data_table.ipynb>data table notebook</a>'\n",
              "            + ' to learn more about interactive tables.';\n",
              "          element.innerHTML = '';\n",
              "          dataTable['output_type'] = 'display_data';\n",
              "          await google.colab.output.renderOutput(dataTable, element);\n",
              "          const docLink = document.createElement('div');\n",
              "          docLink.innerHTML = docLinkHtml;\n",
              "          element.appendChild(docLink);\n",
              "        }\n",
              "      </script>\n",
              "    </div>\n",
              "  </div>\n",
              "  "
            ]
          },
          "metadata": {},
          "execution_count": 17
        }
      ]
    },
    {
      "cell_type": "code",
      "source": [
        "df_open = df1([])"
      ],
      "metadata": {
        "id": "n14u4S1ruT-8"
      },
      "execution_count": null,
      "outputs": []
    },
    {
      "cell_type": "code",
      "source": [],
      "metadata": {
        "id": "K7NfyGKnuUM6"
      },
      "execution_count": null,
      "outputs": []
    },
    {
      "cell_type": "code",
      "source": [],
      "metadata": {
        "id": "CEtkoAC7uUdj"
      },
      "execution_count": null,
      "outputs": []
    },
    {
      "cell_type": "code",
      "source": [],
      "metadata": {
        "id": "-1wSsC69uUwF"
      },
      "execution_count": null,
      "outputs": []
    },
    {
      "cell_type": "code",
      "source": [],
      "metadata": {
        "id": "CjiViJg_uU4A"
      },
      "execution_count": null,
      "outputs": []
    }
  ]
}