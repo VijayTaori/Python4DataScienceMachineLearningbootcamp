{
  "nbformat": 4,
  "nbformat_minor": 0,
  "metadata": {
    "colab": {
      "provenance": [],
      "authorship_tag": "ABX9TyM9kPF9D6lKQQDTjEYZxBv+",
      "include_colab_link": true
    },
    "kernelspec": {
      "name": "python3",
      "display_name": "Python 3"
    },
    "language_info": {
      "name": "python"
    }
  },
  "cells": [
    {
      "cell_type": "markdown",
      "metadata": {
        "id": "view-in-github",
        "colab_type": "text"
      },
      "source": [
        "<a href=\"https://colab.research.google.com/github/VijayTaori/Python4DataScienceMachineLearningbootcamp/blob/master/001Python_Crash_course.ipynb\" target=\"_parent\"><img src=\"https://colab.research.google.com/assets/colab-badge.svg\" alt=\"Open In Colab\"/></a>"
      ]
    },
    {
      "cell_type": "markdown",
      "source": [
        "## Python Crash Course\n",
        "This notebook will just go through the basic topics in order:\n",
        "\n",
        " - Data types\n",
        "- Numbers\n",
        "- Strings\n",
        "- Printing\n",
        "- Lists\n",
        "- Dictionaries\n",
        "- Booleans\n",
        "- Tuples\n",
        "- Sets\n",
        " - Comparision Operators\n",
        " - if, elif, else Statements\n",
        " - for Loops\n",
        " - while loops\n",
        " - range()\n",
        " - list comprehension\n",
        " - functions\n",
        " - lambda expression\n",
        " - map and filter\n",
        " - methods\n",
        "\n"
      ],
      "metadata": {
        "id": "ebKDfS7fhr5L"
      }
    },
    {
      "cell_type": "markdown",
      "source": [
        "Python Crash course"
      ],
      "metadata": {
        "id": "6YygQk2rgJz3"
      }
    },
    {
      "cell_type": "code",
      "source": [
        "1+1"
      ],
      "metadata": {
        "colab": {
          "base_uri": "https://localhost:8080/"
        },
        "id": "ZyZN3QzmgO_3",
        "outputId": "eb4f8891-739c-49bb-c0e2-34de7fe1c606"
      },
      "execution_count": 3,
      "outputs": [
        {
          "output_type": "execute_result",
          "data": {
            "text/plain": [
              "2"
            ]
          },
          "metadata": {},
          "execution_count": 3
        }
      ]
    },
    {
      "cell_type": "code",
      "source": [
        "1*3"
      ],
      "metadata": {
        "colab": {
          "base_uri": "https://localhost:8080/"
        },
        "id": "rJY6JTj_e5HH",
        "outputId": "053ec424-4e26-415c-bae3-7c7d87964346"
      },
      "execution_count": 5,
      "outputs": [
        {
          "output_type": "execute_result",
          "data": {
            "text/plain": [
              "3"
            ]
          },
          "metadata": {},
          "execution_count": 5
        }
      ]
    },
    {
      "cell_type": "code",
      "source": [
        "1/2"
      ],
      "metadata": {
        "colab": {
          "base_uri": "https://localhost:8080/"
        },
        "id": "UrAu24iIgdVk",
        "outputId": "12edc644-29a5-4fbb-a227-f7ae452cb444"
      },
      "execution_count": 7,
      "outputs": [
        {
          "output_type": "execute_result",
          "data": {
            "text/plain": [
              "0.5"
            ]
          },
          "metadata": {},
          "execution_count": 7
        }
      ]
    },
    {
      "cell_type": "code",
      "source": [
        "2**4"
      ],
      "metadata": {
        "colab": {
          "base_uri": "https://localhost:8080/"
        },
        "id": "KHOf7jiEghwE",
        "outputId": "2562dd81-5491-43a3-9807-a3fa48dac388"
      },
      "execution_count": 9,
      "outputs": [
        {
          "output_type": "execute_result",
          "data": {
            "text/plain": [
              "16"
            ]
          },
          "metadata": {},
          "execution_count": 9
        }
      ]
    },
    {
      "cell_type": "code",
      "source": [
        "(2+3) * (5+5)"
      ],
      "metadata": {
        "colab": {
          "base_uri": "https://localhost:8080/"
        },
        "id": "7KA8VTEbgj98",
        "outputId": "8f4d1552-bc1b-4111-b693-8bdc67f85b22"
      },
      "execution_count": 11,
      "outputs": [
        {
          "output_type": "execute_result",
          "data": {
            "text/plain": [
              "50"
            ]
          },
          "metadata": {},
          "execution_count": 11
        }
      ]
    },
    {
      "cell_type": "code",
      "source": [
        "4 % 2"
      ],
      "metadata": {
        "colab": {
          "base_uri": "https://localhost:8080/"
        },
        "id": "q3a9bFmogrl0",
        "outputId": "4b9762bc-1119-4867-8c28-f077ae69ce76"
      },
      "execution_count": 13,
      "outputs": [
        {
          "output_type": "execute_result",
          "data": {
            "text/plain": [
              "0"
            ]
          },
          "metadata": {},
          "execution_count": 13
        }
      ]
    },
    {
      "cell_type": "code",
      "source": [
        "5 % 2"
      ],
      "metadata": {
        "colab": {
          "base_uri": "https://localhost:8080/"
        },
        "id": "xrvVX5N9gwlT",
        "outputId": "c96b5c26-f727-4d01-a699-2c267b80cab1"
      },
      "execution_count": 15,
      "outputs": [
        {
          "output_type": "execute_result",
          "data": {
            "text/plain": [
              "1"
            ]
          },
          "metadata": {},
          "execution_count": 15
        }
      ]
    },
    {
      "cell_type": "markdown",
      "source": [
        "Variables"
      ],
      "metadata": {
        "id": "lc0z8kJLg44i"
      }
    },
    {
      "cell_type": "code",
      "source": [
        "x = 2\n",
        "y = 3"
      ],
      "metadata": {
        "id": "V7uflZchg6sk"
      },
      "execution_count": 16,
      "outputs": []
    },
    {
      "cell_type": "code",
      "source": [
        "x + y"
      ],
      "metadata": {
        "colab": {
          "base_uri": "https://localhost:8080/"
        },
        "id": "ncFtY9LRibHv",
        "outputId": "fa50e3db-53dc-482b-fca9-2ecdc7b3b930"
      },
      "execution_count": 18,
      "outputs": [
        {
          "output_type": "execute_result",
          "data": {
            "text/plain": [
              "5"
            ]
          },
          "metadata": {},
          "execution_count": 18
        }
      ]
    },
    {
      "cell_type": "code",
      "source": [
        "z = x * y"
      ],
      "metadata": {
        "id": "ZV39c7myihn6"
      },
      "execution_count": 19,
      "outputs": []
    },
    {
      "cell_type": "code",
      "source": [
        "z"
      ],
      "metadata": {
        "colab": {
          "base_uri": "https://localhost:8080/"
        },
        "id": "rVmX56atimeT",
        "outputId": "4a8f71ed-4221-447a-c3b5-79db9fe453fa"
      },
      "execution_count": 20,
      "outputs": [
        {
          "output_type": "execute_result",
          "data": {
            "text/plain": [
              "6"
            ]
          },
          "metadata": {},
          "execution_count": 20
        }
      ]
    },
    {
      "cell_type": "code",
      "source": [],
      "metadata": {
        "id": "NQycYpEWinVq"
      },
      "execution_count": null,
      "outputs": []
    },
    {
      "cell_type": "markdown",
      "source": [
        "Strings"
      ],
      "metadata": {
        "id": "o1cx1F-KisU1"
      }
    },
    {
      "cell_type": "code",
      "source": [
        "'Single Quotes '"
      ],
      "metadata": {
        "colab": {
          "base_uri": "https://localhost:8080/",
          "height": 35
        },
        "id": "ntcwW9c_it8S",
        "outputId": "34f1b782-65e7-40e6-b1a0-69231d62ce1b"
      },
      "execution_count": 21,
      "outputs": [
        {
          "output_type": "execute_result",
          "data": {
            "text/plain": [
              "'Single Quotes '"
            ],
            "application/vnd.google.colaboratory.intrinsic+json": {
              "type": "string"
            }
          },
          "metadata": {},
          "execution_count": 21
        }
      ]
    },
    {
      "cell_type": "code",
      "source": [
        "\" Double Quotes\""
      ],
      "metadata": {
        "colab": {
          "base_uri": "https://localhost:8080/",
          "height": 35
        },
        "id": "BfWqxvQyizb6",
        "outputId": "a454c761-a663-4af9-b6bd-bee8a2cdb1d0"
      },
      "execution_count": 22,
      "outputs": [
        {
          "output_type": "execute_result",
          "data": {
            "text/plain": [
              "' Double Quotes'"
            ],
            "application/vnd.google.colaboratory.intrinsic+json": {
              "type": "string"
            }
          },
          "metadata": {},
          "execution_count": 22
        }
      ]
    },
    {
      "cell_type": "code",
      "source": [
        "\"Wrap lot's of quotes\""
      ],
      "metadata": {
        "colab": {
          "base_uri": "https://localhost:8080/",
          "height": 35
        },
        "id": "XFcbyt7ei4cC",
        "outputId": "c6cdf03a-91b5-426e-9a1e-1d3f4b297acd"
      },
      "execution_count": 23,
      "outputs": [
        {
          "output_type": "execute_result",
          "data": {
            "text/plain": [
              "\"Wrap lot's of quotes\""
            ],
            "application/vnd.google.colaboratory.intrinsic+json": {
              "type": "string"
            }
          },
          "metadata": {},
          "execution_count": 23
        }
      ]
    },
    {
      "cell_type": "code",
      "source": [],
      "metadata": {
        "id": "bYVsxpxDjEHr"
      },
      "execution_count": null,
      "outputs": []
    },
    {
      "cell_type": "markdown",
      "source": [
        "Printing"
      ],
      "metadata": {
        "id": "MuVwpQmvjFVy"
      }
    },
    {
      "cell_type": "code",
      "source": [
        "x = 'Hello'"
      ],
      "metadata": {
        "id": "3z8ibidRjIzy"
      },
      "execution_count": 24,
      "outputs": []
    },
    {
      "cell_type": "code",
      "source": [
        "x"
      ],
      "metadata": {
        "colab": {
          "base_uri": "https://localhost:8080/",
          "height": 35
        },
        "id": "zM50uKbUjLsD",
        "outputId": "9215ce49-620a-4b94-e678-0c00f9cb6244"
      },
      "execution_count": 25,
      "outputs": [
        {
          "output_type": "execute_result",
          "data": {
            "text/plain": [
              "'Hello'"
            ],
            "application/vnd.google.colaboratory.intrinsic+json": {
              "type": "string"
            }
          },
          "metadata": {},
          "execution_count": 25
        }
      ]
    },
    {
      "cell_type": "code",
      "source": [
        "print(x)"
      ],
      "metadata": {
        "colab": {
          "base_uri": "https://localhost:8080/"
        },
        "id": "vlow3cwBjNBi",
        "outputId": "147b2ba0-c90f-4900-c8fe-e8341597496f"
      },
      "execution_count": 26,
      "outputs": [
        {
          "output_type": "stream",
          "name": "stdout",
          "text": [
            "Hello\n"
          ]
        }
      ]
    },
    {
      "cell_type": "code",
      "source": [
        "num = 12\n",
        "name = \"Vijay\""
      ],
      "metadata": {
        "id": "D9gwTbg1jQXK"
      },
      "execution_count": 27,
      "outputs": []
    },
    {
      "cell_type": "code",
      "source": [
        "print(\"My name is {}, and my numbewr is {}\".format(name, num))"
      ],
      "metadata": {
        "colab": {
          "base_uri": "https://localhost:8080/"
        },
        "id": "MusTUJbmjYFi",
        "outputId": "b8ae9f5b-e455-44ce-dd0f-461dafde440a"
      },
      "execution_count": 28,
      "outputs": [
        {
          "output_type": "stream",
          "name": "stdout",
          "text": [
            "My name is Vijay, and my numbewr is 12\n"
          ]
        }
      ]
    },
    {
      "cell_type": "code",
      "source": [
        "print(\"My name is {var1}, and my number is {var2}\".format(var1=name, var2=num))"
      ],
      "metadata": {
        "colab": {
          "base_uri": "https://localhost:8080/"
        },
        "id": "fSZScIzwjtgh",
        "outputId": "706bb50b-33f0-49de-9667-2227cbcdaa73"
      },
      "execution_count": 62,
      "outputs": [
        {
          "output_type": "stream",
          "name": "stdout",
          "text": [
            "My name is Vijay, and my number is 12\n"
          ]
        }
      ]
    },
    {
      "cell_type": "code",
      "source": [
        "# We can try by switching the palces of the insert1 and insert2\n",
        "# Since we have assigned the value to each in format it will not throw an error\n",
        "print('My number is {insert1}, and my name is {insert2}.'.format(insert2=name, insert1=num))"
      ],
      "metadata": {
        "colab": {
          "base_uri": "https://localhost:8080/"
        },
        "id": "E2JmEoG5pZUl",
        "outputId": "83681675-54fd-4d26-c955-75a942690633"
      },
      "execution_count": 63,
      "outputs": [
        {
          "output_type": "stream",
          "name": "stdout",
          "text": [
            "My number is 12, and my name is Vijay.\n"
          ]
        }
      ]
    },
    {
      "cell_type": "code",
      "source": [],
      "metadata": {
        "id": "ApbHKKHtpaXl"
      },
      "execution_count": null,
      "outputs": []
    },
    {
      "cell_type": "code",
      "source": [
        "# If we donot assign\n",
        "print('In correct order: My number is {}, and my name is {}.'.format(num,name))\n",
        "# But if we have missmatch of the variables check how the outcome is\n",
        "# But no error!!\n",
        "print('In a mismatch order: My number is {}, and my name is {}.'.format(name,num))\n",
        "# Let's see what happens when we have only one variable in format but two {} in the sentence\n",
        "print('With only one variable: My number is {}, and my name is {}.'.format(name))# This throws an error\n",
        "# IndexError: tuple index out of range, meaning it needs a tuple with 2 elements in this case"
      ],
      "metadata": {
        "colab": {
          "base_uri": "https://localhost:8080/",
          "height": 315
        },
        "id": "7anN1H-qpJoO",
        "outputId": "6ba81db3-0411-4162-f3ae-5af713b8c521"
      },
      "execution_count": 83,
      "outputs": [
        {
          "output_type": "stream",
          "name": "stdout",
          "text": [
            "In correct order: My number is 12, and my name is Vijay.\n",
            "In a mismatch order: My number is Vijay, and my name is 12.\n"
          ]
        },
        {
          "output_type": "error",
          "ename": "IndexError",
          "evalue": "ignored",
          "traceback": [
            "\u001b[0;31m---------------------------------------------------------------------------\u001b[0m",
            "\u001b[0;31mIndexError\u001b[0m                                Traceback (most recent call last)",
            "\u001b[0;32m<ipython-input-83-c252f852c4bf>\u001b[0m in \u001b[0;36m<cell line: 7>\u001b[0;34m()\u001b[0m\n\u001b[1;32m      5\u001b[0m \u001b[0mprint\u001b[0m\u001b[0;34m(\u001b[0m\u001b[0;34m'In a mismatch order: My number is {}, and my name is {}.'\u001b[0m\u001b[0;34m.\u001b[0m\u001b[0mformat\u001b[0m\u001b[0;34m(\u001b[0m\u001b[0mname\u001b[0m\u001b[0;34m,\u001b[0m\u001b[0mnum\u001b[0m\u001b[0;34m)\u001b[0m\u001b[0;34m)\u001b[0m\u001b[0;34m\u001b[0m\u001b[0;34m\u001b[0m\u001b[0m\n\u001b[1;32m      6\u001b[0m \u001b[0;31m# Let's see what happens when we have only one variable in format but two {} in the sentence\u001b[0m\u001b[0;34m\u001b[0m\u001b[0;34m\u001b[0m\u001b[0m\n\u001b[0;32m----> 7\u001b[0;31m \u001b[0mprint\u001b[0m\u001b[0;34m(\u001b[0m\u001b[0;34m'With only one variable: My number is {}, and my name is {}.'\u001b[0m\u001b[0;34m.\u001b[0m\u001b[0mformat\u001b[0m\u001b[0;34m(\u001b[0m\u001b[0mname\u001b[0m\u001b[0;34m)\u001b[0m\u001b[0;34m)\u001b[0m\u001b[0;31m# This throws an error\u001b[0m\u001b[0;34m\u001b[0m\u001b[0;34m\u001b[0m\u001b[0m\n\u001b[0m\u001b[1;32m      8\u001b[0m \u001b[0;31m# IndexError: tuple index out of range, meaning it needs a tuple with 2 elements in this case\u001b[0m\u001b[0;34m\u001b[0m\u001b[0;34m\u001b[0m\u001b[0m\n",
            "\u001b[0;31mIndexError\u001b[0m: Replacement index 1 out of range for positional args tuple"
          ]
        }
      ]
    },
    {
      "cell_type": "code",
      "source": [
        "my_list = ['a','b','c']\n",
        "print('Elements for my_list:', my_list)\n",
        "print('Elements for my_list[-1]:', my_list[-1])\n",
        "print('Elements for my_list[-1:-2]:', my_list[-1:-2],'Remember cannot go in reverse direction unless instructed to do so')\n",
        "print('Elements for my_list[-1:-2:-1]:', my_list[-1:-2:-1]) # Here we specified the direction as '-ve' and step '1' at the end\n",
        "print('Elements for my_list[-1:-3]:', my_list[-1:-3]) #Remember cannot go in reverse direction unless instructed to do so\n",
        "print('Elements for my_list[-1:-3:-1]:', my_list[-1:-3:-1]) # Here we specified the direction as '-ve' and step '1' at the end\n",
        "print('Elements for my_list[-1:-3:-2]:', my_list[-1:-3:-2]) # Here we specified the direction as '-ve' and step '2' at the end\n",
        "print('Elements for my_list[:-3]:', my_list[:-3]) # This is tricky, no element selected 0th = -3rd\n",
        "print('Elements for my_list[:-2]:', my_list[:-2]) # This is tricky, only 0th element is selected\n",
        "print('Elements for my_list[-3:]:', my_list[-3:])\n",
        "print('Elements for my_list[::-1]:', my_list[::-1]) # All elements are selected in reverse order\n",
        "print('Elements for my_list[-1:-4:-1]:', my_list[-1:-4:-1]) # All elements are selected in reverse order\n",
        "print('Elements for my_list[2::-1]:', my_list[2::-1]) # All elements are selected in reverse order\n",
        "print('Elements for my_list[2:0:-1]:', my_list[2:0:-1]) # Last two elements are selected in reverse order"
      ],
      "metadata": {
        "colab": {
          "base_uri": "https://localhost:8080/"
        },
        "id": "OAtYgaD5ttGq",
        "outputId": "1927f65d-0b55-4968-88d3-8067f0cee2ed"
      },
      "execution_count": 84,
      "outputs": [
        {
          "output_type": "stream",
          "name": "stdout",
          "text": [
            "Elements for my_list: ['a', 'b', 'c']\n",
            "Elements for my_list[-1]: c\n",
            "Elements for my_list[-1:-2]: [] Remember cannot go in reverse direction unless instructed to do so\n",
            "Elements for my_list[-1:-2:-1]: ['c']\n",
            "Elements for my_list[-1:-3]: []\n",
            "Elements for my_list[-1:-3:-1]: ['c', 'b']\n",
            "Elements for my_list[-1:-3:-2]: ['c']\n",
            "Elements for my_list[:-3]: []\n",
            "Elements for my_list[:-2]: ['a']\n",
            "Elements for my_list[-3:]: ['a', 'b', 'c']\n",
            "Elements for my_list[::-1]: ['c', 'b', 'a']\n",
            "Elements for my_list[-1:-4:-1]: ['c', 'b', 'a']\n",
            "Elements for my_list[2::-1]: ['c', 'b', 'a']\n",
            "Elements for my_list[2:0:-1]: ['c', 'b']\n"
          ]
        }
      ]
    },
    {
      "cell_type": "code",
      "source": [],
      "metadata": {
        "id": "F0nzEzCztugp"
      },
      "execution_count": null,
      "outputs": []
    },
    {
      "cell_type": "code",
      "source": [
        "s = \"Choose your charachter\""
      ],
      "metadata": {
        "id": "mBULkD7VkHdB"
      },
      "execution_count": 85,
      "outputs": []
    },
    {
      "cell_type": "code",
      "source": [
        "s[0:]"
      ],
      "metadata": {
        "colab": {
          "base_uri": "https://localhost:8080/",
          "height": 35
        },
        "id": "t4FiSnLPkR6R",
        "outputId": "40e8839f-873b-48a5-ff75-f45c3868f817"
      },
      "execution_count": 48,
      "outputs": [
        {
          "output_type": "execute_result",
          "data": {
            "text/plain": [
              "'Choose your charachter'"
            ],
            "application/vnd.google.colaboratory.intrinsic+json": {
              "type": "string"
            }
          },
          "metadata": {},
          "execution_count": 48
        }
      ]
    },
    {
      "cell_type": "code",
      "source": [
        "s[:0]"
      ],
      "metadata": {
        "colab": {
          "base_uri": "https://localhost:8080/",
          "height": 35
        },
        "id": "ad7_tBXikV0p",
        "outputId": "0e71027a-50bc-417c-d179-b695d113375a"
      },
      "execution_count": 49,
      "outputs": [
        {
          "output_type": "execute_result",
          "data": {
            "text/plain": [
              "''"
            ],
            "application/vnd.google.colaboratory.intrinsic+json": {
              "type": "string"
            }
          },
          "metadata": {},
          "execution_count": 49
        }
      ]
    },
    {
      "cell_type": "code",
      "source": [
        "s[:12]"
      ],
      "metadata": {
        "colab": {
          "base_uri": "https://localhost:8080/",
          "height": 35
        },
        "id": "3QCMan00kahp",
        "outputId": "3153ac9f-358d-4d70-c23c-4c9ea3690c36"
      },
      "execution_count": 50,
      "outputs": [
        {
          "output_type": "execute_result",
          "data": {
            "text/plain": [
              "'Choose your '"
            ],
            "application/vnd.google.colaboratory.intrinsic+json": {
              "type": "string"
            }
          },
          "metadata": {},
          "execution_count": 50
        }
      ]
    },
    {
      "cell_type": "code",
      "source": [
        "s[0:12:1]"
      ],
      "metadata": {
        "colab": {
          "base_uri": "https://localhost:8080/",
          "height": 35
        },
        "id": "0eqrEtwKkfMR",
        "outputId": "2fefb645-3cd4-4e95-d700-b7831b69b294"
      },
      "execution_count": 58,
      "outputs": [
        {
          "output_type": "execute_result",
          "data": {
            "text/plain": [
              "'Choose your '"
            ],
            "application/vnd.google.colaboratory.intrinsic+json": {
              "type": "string"
            }
          },
          "metadata": {},
          "execution_count": 58
        }
      ]
    },
    {
      "cell_type": "code",
      "source": [
        "s[11::-1]"
      ],
      "metadata": {
        "colab": {
          "base_uri": "https://localhost:8080/",
          "height": 35
        },
        "id": "45Xvp_nnokRN",
        "outputId": "e2343b55-3600-49a6-f377-174fa8bd08ba"
      },
      "execution_count": 59,
      "outputs": [
        {
          "output_type": "execute_result",
          "data": {
            "text/plain": [
              "' ruoy esoohC'"
            ],
            "application/vnd.google.colaboratory.intrinsic+json": {
              "type": "string"
            }
          },
          "metadata": {},
          "execution_count": 59
        }
      ]
    },
    {
      "cell_type": "code",
      "source": [
        "s[12:0:-1]"
      ],
      "metadata": {
        "colab": {
          "base_uri": "https://localhost:8080/",
          "height": 35
        },
        "id": "pxAHWfpsknNZ",
        "outputId": "e9400896-3457-49b8-d729-ea8a99af5c21"
      },
      "execution_count": 55,
      "outputs": [
        {
          "output_type": "execute_result",
          "data": {
            "text/plain": [
              "'c ruoy esooh'"
            ],
            "application/vnd.google.colaboratory.intrinsic+json": {
              "type": "string"
            }
          },
          "metadata": {},
          "execution_count": 55
        }
      ]
    },
    {
      "cell_type": "code",
      "source": [
        "s[12::-1]"
      ],
      "metadata": {
        "colab": {
          "base_uri": "https://localhost:8080/",
          "height": 35
        },
        "id": "S6G_4b3_nkhf",
        "outputId": "2782947d-ab5f-496b-deff-661be5120558"
      },
      "execution_count": 56,
      "outputs": [
        {
          "output_type": "execute_result",
          "data": {
            "text/plain": [
              "'c ruoy esoohC'"
            ],
            "application/vnd.google.colaboratory.intrinsic+json": {
              "type": "string"
            }
          },
          "metadata": {},
          "execution_count": 56
        }
      ]
    },
    {
      "cell_type": "code",
      "source": [
        "s[::-1]"
      ],
      "metadata": {
        "colab": {
          "base_uri": "https://localhost:8080/",
          "height": 35
        },
        "id": "Z4ioEJxqkqm6",
        "outputId": "82c3461d-94b7-4024-d473-e8f6ca543c27"
      },
      "execution_count": 57,
      "outputs": [
        {
          "output_type": "execute_result",
          "data": {
            "text/plain": [
              "'rethcarahc ruoy esoohC'"
            ],
            "application/vnd.google.colaboratory.intrinsic+json": {
              "type": "string"
            }
          },
          "metadata": {},
          "execution_count": 57
        }
      ]
    },
    {
      "cell_type": "code",
      "source": [],
      "metadata": {
        "id": "aQpun1OoodYd"
      },
      "execution_count": null,
      "outputs": []
    },
    {
      "cell_type": "markdown",
      "source": [
        "Lists"
      ],
      "metadata": {
        "id": "SjzzhM1Uo2G3"
      }
    },
    {
      "cell_type": "code",
      "source": [
        "[1, 2, 3]"
      ],
      "metadata": {
        "colab": {
          "base_uri": "https://localhost:8080/"
        },
        "id": "TFwiNEd-o3s1",
        "outputId": "e8f36e0b-1f72-40a8-fcdb-d4af6459213d"
      },
      "execution_count": 64,
      "outputs": [
        {
          "output_type": "execute_result",
          "data": {
            "text/plain": [
              "[1, 2, 3]"
            ]
          },
          "metadata": {},
          "execution_count": 64
        }
      ]
    },
    {
      "cell_type": "code",
      "source": [
        "['a', 'b', 'c']"
      ],
      "metadata": {
        "colab": {
          "base_uri": "https://localhost:8080/"
        },
        "id": "cciOkqxxpiL0",
        "outputId": "d9ce5728-b27f-467e-cec7-a052d85f47dc"
      },
      "execution_count": 65,
      "outputs": [
        {
          "output_type": "execute_result",
          "data": {
            "text/plain": [
              "['a', 'b', 'c']"
            ]
          },
          "metadata": {},
          "execution_count": 65
        }
      ]
    },
    {
      "cell_type": "code",
      "source": [
        "my_list = ['a', 'b', 'c']"
      ],
      "metadata": {
        "id": "NWeTdpvBppzV"
      },
      "execution_count": 66,
      "outputs": []
    },
    {
      "cell_type": "code",
      "source": [
        "my_list.append(145)"
      ],
      "metadata": {
        "id": "74jJs396psQs"
      },
      "execution_count": 67,
      "outputs": []
    },
    {
      "cell_type": "code",
      "source": [
        "my_list"
      ],
      "metadata": {
        "colab": {
          "base_uri": "https://localhost:8080/"
        },
        "id": "9NU7_P8jpy7d",
        "outputId": "cc3b8f9c-77ce-4169-d865-8882328ad1dd"
      },
      "execution_count": 68,
      "outputs": [
        {
          "output_type": "execute_result",
          "data": {
            "text/plain": [
              "['a', 'b', 'c', 145]"
            ]
          },
          "metadata": {},
          "execution_count": 68
        }
      ]
    },
    {
      "cell_type": "code",
      "source": [
        "my_list = list('choose_your-character!')"
      ],
      "metadata": {
        "id": "AxaAaGCbp1yN"
      },
      "execution_count": 86,
      "outputs": []
    },
    {
      "cell_type": "code",
      "source": [
        "my_list"
      ],
      "metadata": {
        "colab": {
          "base_uri": "https://localhost:8080/"
        },
        "id": "l4teahWOqJUz",
        "outputId": "f06b5e2a-f11f-47f9-af00-2e92537783bb"
      },
      "execution_count": 87,
      "outputs": [
        {
          "output_type": "execute_result",
          "data": {
            "text/plain": [
              "['c',\n",
              " 'h',\n",
              " 'o',\n",
              " 'o',\n",
              " 's',\n",
              " 'e',\n",
              " '_',\n",
              " 'y',\n",
              " 'o',\n",
              " 'u',\n",
              " 'r',\n",
              " '-',\n",
              " 'c',\n",
              " 'h',\n",
              " 'a',\n",
              " 'r',\n",
              " 'a',\n",
              " 'c',\n",
              " 't',\n",
              " 'e',\n",
              " 'r',\n",
              " '!']"
            ]
          },
          "metadata": {},
          "execution_count": 87
        }
      ]
    },
    {
      "cell_type": "code",
      "source": [
        "my_list[4:9]"
      ],
      "metadata": {
        "colab": {
          "base_uri": "https://localhost:8080/"
        },
        "id": "P0LS6ZqeqNQU",
        "outputId": "311cf265-3ef2-44d4-8694-9812483ae298"
      },
      "execution_count": 73,
      "outputs": [
        {
          "output_type": "execute_result",
          "data": {
            "text/plain": [
              "['s', 'e', '_', 'y', 'o']"
            ]
          },
          "metadata": {},
          "execution_count": 73
        }
      ]
    },
    {
      "cell_type": "code",
      "source": [],
      "metadata": {
        "id": "b57D0JVoqT-7"
      },
      "execution_count": null,
      "outputs": []
    },
    {
      "cell_type": "code",
      "source": [
        "my_list[0] ='choose_your-character!'"
      ],
      "metadata": {
        "id": "Yuu9fEGoqA3V"
      },
      "execution_count": 88,
      "outputs": []
    },
    {
      "cell_type": "code",
      "source": [
        "my_list"
      ],
      "metadata": {
        "colab": {
          "base_uri": "https://localhost:8080/"
        },
        "id": "p9352nM1qr7N",
        "outputId": "fca5328b-77e5-4f6b-ed19-81f954e55ee5"
      },
      "execution_count": 77,
      "outputs": [
        {
          "output_type": "execute_result",
          "data": {
            "text/plain": [
              "['choose_your-character!',\n",
              " 'h',\n",
              " 'o',\n",
              " 'o',\n",
              " 's',\n",
              " 'e',\n",
              " '_',\n",
              " 'y',\n",
              " 'o',\n",
              " 'u',\n",
              " 'r',\n",
              " '-',\n",
              " 'c',\n",
              " 'h',\n",
              " 'a',\n",
              " 'r',\n",
              " 'a',\n",
              " 'c',\n",
              " 't',\n",
              " 'e',\n",
              " 'r',\n",
              " '!']"
            ]
          },
          "metadata": {},
          "execution_count": 77
        }
      ]
    },
    {
      "cell_type": "code",
      "source": [
        "my_list.insert(1,'c')"
      ],
      "metadata": {
        "id": "2NISvk-jq55r"
      },
      "execution_count": 89,
      "outputs": []
    },
    {
      "cell_type": "code",
      "source": [
        "my_list"
      ],
      "metadata": {
        "colab": {
          "base_uri": "https://localhost:8080/"
        },
        "id": "Y9YEsYyfsB2S",
        "outputId": "30e50aa1-0415-40e5-e0bd-f8bcbc421167"
      },
      "execution_count": 90,
      "outputs": [
        {
          "output_type": "execute_result",
          "data": {
            "text/plain": [
              "['choose_your-character!',\n",
              " 'c',\n",
              " 'h',\n",
              " 'o',\n",
              " 'o',\n",
              " 's',\n",
              " 'e',\n",
              " '_',\n",
              " 'y',\n",
              " 'o',\n",
              " 'u',\n",
              " 'r',\n",
              " '-',\n",
              " 'c',\n",
              " 'h',\n",
              " 'a',\n",
              " 'r',\n",
              " 'a',\n",
              " 'c',\n",
              " 't',\n",
              " 'e',\n",
              " 'r',\n",
              " '!']"
            ]
          },
          "metadata": {},
          "execution_count": 90
        }
      ]
    },
    {
      "cell_type": "code",
      "source": [
        "my_list[::-1]"
      ],
      "metadata": {
        "colab": {
          "base_uri": "https://localhost:8080/"
        },
        "id": "288XCNa-uXIw",
        "outputId": "4e049f23-026c-4f3e-a24b-47666707bfe6"
      },
      "execution_count": 91,
      "outputs": [
        {
          "output_type": "execute_result",
          "data": {
            "text/plain": [
              "['!',\n",
              " 'r',\n",
              " 'e',\n",
              " 't',\n",
              " 'c',\n",
              " 'a',\n",
              " 'r',\n",
              " 'a',\n",
              " 'h',\n",
              " 'c',\n",
              " '-',\n",
              " 'r',\n",
              " 'u',\n",
              " 'o',\n",
              " 'y',\n",
              " '_',\n",
              " 'e',\n",
              " 's',\n",
              " 'o',\n",
              " 'o',\n",
              " 'h',\n",
              " 'c',\n",
              " 'choose_your-character!']"
            ]
          },
          "metadata": {},
          "execution_count": 91
        }
      ]
    },
    {
      "cell_type": "code",
      "source": [
        "my_list[::-2]"
      ],
      "metadata": {
        "colab": {
          "base_uri": "https://localhost:8080/"
        },
        "id": "ZWNcKmqquaDJ",
        "outputId": "dcf012fd-045f-4cc4-eafd-930ae34d72f0"
      },
      "execution_count": 93,
      "outputs": [
        {
          "output_type": "execute_result",
          "data": {
            "text/plain": [
              "['!',\n",
              " 'e',\n",
              " 'c',\n",
              " 'r',\n",
              " 'h',\n",
              " '-',\n",
              " 'u',\n",
              " 'y',\n",
              " 'e',\n",
              " 'o',\n",
              " 'h',\n",
              " 'choose_your-character!']"
            ]
          },
          "metadata": {},
          "execution_count": 93
        }
      ]
    },
    {
      "cell_type": "code",
      "source": [
        "my_list[::2]"
      ],
      "metadata": {
        "colab": {
          "base_uri": "https://localhost:8080/"
        },
        "id": "VEq277pRujCJ",
        "outputId": "db1846b8-2a3d-4270-bf44-11707a76b745"
      },
      "execution_count": 94,
      "outputs": [
        {
          "output_type": "execute_result",
          "data": {
            "text/plain": [
              "['choose_your-character!',\n",
              " 'h',\n",
              " 'o',\n",
              " 'e',\n",
              " 'y',\n",
              " 'u',\n",
              " '-',\n",
              " 'h',\n",
              " 'r',\n",
              " 'c',\n",
              " 'e',\n",
              " '!']"
            ]
          },
          "metadata": {},
          "execution_count": 94
        }
      ]
    },
    {
      "cell_type": "code",
      "source": [],
      "metadata": {
        "id": "fb0bTZASumMh"
      },
      "execution_count": null,
      "outputs": []
    },
    {
      "cell_type": "code",
      "source": [
        "# Differnce between list and a set and a tuple\n",
        "print([1,1,2,3])\n",
        "print({1,1,2,3})\n",
        "print((1,1,2,3))"
      ],
      "metadata": {
        "colab": {
          "base_uri": "https://localhost:8080/"
        },
        "id": "TkI8fXLVsEdq",
        "outputId": "4c94d2c2-1b0a-4032-8e95-f533a2053a86"
      },
      "execution_count": 81,
      "outputs": [
        {
          "output_type": "stream",
          "name": "stdout",
          "text": [
            "[1, 1, 2, 3]\n",
            "{1, 2, 3}\n",
            "(1, 1, 2, 3)\n"
          ]
        }
      ]
    },
    {
      "cell_type": "code",
      "source": [
        "my_list.append(['x', '12', '#'])\n",
        "print(my_list)"
      ],
      "metadata": {
        "colab": {
          "base_uri": "https://localhost:8080/"
        },
        "id": "__7a4kAus0pL",
        "outputId": "3cfe8c1e-133f-464a-bd12-ac97e2fe8402"
      },
      "execution_count": 82,
      "outputs": [
        {
          "output_type": "stream",
          "name": "stdout",
          "text": [
            "['choose_your-character!', 'c', 'h', 'o', 'o', 's', 'e', '_', 'y', 'o', 'u', 'r', '-', 'c', 'h', 'a', 'r', 'a', 'c', 't', 'e', 'r', '!', ['x', '12', '#']]\n"
          ]
        }
      ]
    },
    {
      "cell_type": "code",
      "source": [],
      "metadata": {
        "id": "bBKWYplOs9uC"
      },
      "execution_count": null,
      "outputs": []
    }
  ]
}